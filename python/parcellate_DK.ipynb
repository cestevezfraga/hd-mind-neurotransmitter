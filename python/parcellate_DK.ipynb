{
 "cells": [
  {
   "cell_type": "code",
   "execution_count": null,
   "metadata": {},
   "outputs": [],
   "source": [
    "'''\n",
    "Adapted from: “Mapping neurotransmitter systems to the structural and functional organization of the human neocortex” [Hansen et al. Nature Neuroscience 2022] \n",
    "by Carlos Estevez-Fraga\n",
    "'''"
   ]
  },
  {
   "cell_type": "code",
   "execution_count": null,
   "metadata": {},
   "outputs": [],
   "source": [
    "# -*- coding: utf-8 -*-\n",
    "\"\"\"\n",
    "Parcellate volumetric PET images\n",
    "\"\"\"\n",
    "\n",
    "import numpy as np\n",
    "from nilearn.datasets import fetch_atlas_schaefer_2018\n",
    "from neuromaps.parcellate import Parcellater\n",
    "import abagen"
   ]
  },
  {
   "cell_type": "code",
   "execution_count": null,
   "metadata": {},
   "outputs": [],
   "source": [
    "scale = 'scale068'\n",
    "\n",
    "dk=abagen.fetch_desikan_killiany(n_rois=68)\n",
    "path = \"/Users/charlie/Desktop/my_projects/neurotransmitter/ntrans/data/PET_nifti_images/\"\n",
    "outpath = \"/Users/charlie/Desktop/my_projects/neurotransmitter/ntrans/data/PET_parcellated/\"+scale+\"/\""
   ]
  },
  {
   "cell_type": "code",
   "execution_count": null,
   "metadata": {},
   "outputs": [],
   "source": [
    "receptors_nii = [path+'5HT1a_way_hc36_savli.nii',\n",
    "                 path+'5HT1a_cumi_hc8_beliveau.nii',\n",
    "                 path+'5HT1b_az_hc36_beliveau.nii',\n",
    "                 path+'5HT1b_p943_hc22_savli.nii',\n",
    "                 path+'5HT1b_p943_hc65_gallezot.nii.gz',\n",
    "                 path+'5HT2a_cimbi_hc29_beliveau.nii',\n",
    "                 path+'5HT2a_alt_hc19_savli.nii',\n",
    "                 path+'5HT2a_mdl_hc3_talbot.nii.gz',\n",
    "                 path+'5HT4_sb20_hc59_beliveau.nii',\n",
    "                 path+'5HT6_gsk_hc30_radhakrishnan.nii.gz',\n",
    "                 path+'5HTT_dasb_hc100_beliveau.nii',\n",
    "                 path+'5HTT_dasb_hc30_savli.nii',\n",
    "                 path+'A4B2_flubatine_hc30_hillmer.nii.gz',\n",
    "                 path+'CB1_omar_hc77_normandin.nii.gz',\n",
    "                 path+'CB1_FMPEPd2_hc22_laurikainen.nii',\n",
    "                 path+'D1_SCH23390_hc13_kaller.nii',\n",
    "                 path+'D2_fallypride_hc49_jaworska.nii',\n",
    "                 path+'D2_flb457_hc37_smith.nii.gz',\n",
    "                 path+'D2_flb457_hc55_sandiego.nii.gz',\n",
    "                 path+'D2_raclopride_hc7_alakurtti.nii',\n",
    "                 path+'DAT_fpcit_hc174_dukart_spect.nii',\n",
    "                 path+'DAT_fepe2i_hc6_sasaki.nii.gz',\n",
    "                 path+'GABAa-bz_flumazenil_hc16_norgaard.nii',\n",
    "                 path+'GABAa_flumazenil_hc6_dukart.nii',\n",
    "                 path+'H3_cban_hc8_gallezot.nii.gz',\n",
    "                 path+'M1_lsn_hc24_naganawa.nii.gz',\n",
    "                 path+'mGluR5_abp_hc22_rosaneto.nii',\n",
    "                 path+'mGluR5_abp_hc28_dubois.nii',\n",
    "                 path+'mGluR5_abp_hc73_smart.nii',\n",
    "                 path+'MU_carfentanil_hc204_kantonen.nii',\n",
    "                 path+'MU_carfentanil_hc39_turtonen.nii',\n",
    "                 path+'NAT_MRB_hc77_ding.nii.gz',\n",
    "                 path+'NAT_MRB_hc10_hesse.nii',\n",
    "                 path+'NMDA_ge179_hc29_galovic.nii.gz',\n",
    "                 #path+'VAChT_feobv_hc3_spreng.nii',\n",
    "                 path+'VAChT_feobv_hc4_tuominen.nii',\n",
    "                 path+'VAChT_feobv_hc5_bedard_sum.nii',\n",
    "                 path+'VAChT_feobv_hc18_aghourian_sum.nii']\n"
   ]
  },
  {
   "cell_type": "code",
   "execution_count": null,
   "metadata": {},
   "outputs": [],
   "source": [
    "parcellated = {}\n",
    "parcellater = Parcellater(dk['image'], 'MNI152')"
   ]
  },
  {
   "cell_type": "code",
   "execution_count": null,
   "metadata": {},
   "outputs": [],
   "source": [
    "\n",
    "for receptor in receptors_nii:\n",
    "    parcellated[receptor] = parcellater.fit_transform(receptor, 'MNI152', True)\n",
    "    name = receptor.split('/')[-1]  # get nifti file name\n",
    "    name = name.split('.')[0]  # remove .nii\n",
    "    np.savetxt(outpath+name+'.csv', parcellated[receptor], delimiter=',')\n"
   ]
  },
  {
   "cell_type": "code",
   "execution_count": null,
   "metadata": {},
   "outputs": [],
   "source": [
    "print (dk)"
   ]
  },
  {
   "cell_type": "code",
   "execution_count": null,
   "metadata": {},
   "outputs": [],
   "source": []
  }
 ],
 "metadata": {
  "kernelspec": {
   "display_name": "Python 3",
   "language": "python",
   "name": "python3"
  },
  "language_info": {
   "codemirror_mode": {
    "name": "ipython",
    "version": 3
   },
   "file_extension": ".py",
   "mimetype": "text/x-python",
   "name": "python",
   "nbconvert_exporter": "python",
   "pygments_lexer": "ipython3",
   "version": "3.8.5"
  }
 },
 "nbformat": 4,
 "nbformat_minor": 4
}

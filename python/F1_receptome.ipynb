{
 "cells": [
  {
   "cell_type": "code",
   "execution_count": null,
   "metadata": {},
   "outputs": [],
   "source": [
    "\"\"\"\n",
    "Adapted from “Cerebral chemoarchitecture shares organizational traits with brain structure and function” [Hänisch et al. eLife 2023] \n",
    "\n",
    "by Carlos Estevez-Fraga\n",
    "\"\"\""
   ]
  },
  {
   "cell_type": "code",
   "execution_count": null,
   "metadata": {},
   "outputs": [],
   "source": [
    "#!/usr/bin/env python3\n",
    "\n",
    "from scipy.stats import zscore\n",
    "from brainspace.gradient import GradientMaps\n",
    "from brainspace.datasets import load_parcellation, load_conte69\n",
    "from brainspace.plotting import plot_hemispheres\n",
    "from brainspace.utils.parcellation import map_to_labels\n",
    "import pandas as pd\n",
    "import numpy as np\n",
    "import matplotlib.pyplot as plt\n",
    "from mn_funcs import vgm\n",
    "from brainspace.null_models import SurrogateMaps\n",
    "import seaborn as sns\n"
   ]
  },
  {
   "cell_type": "code",
   "execution_count": null,
   "metadata": {},
   "outputs": [],
   "source": [
    "parcels=100\n",
    "labeling = load_parcellation('schaefer', scale=parcels, join=True)\n",
    "surf_lh, surf_rh = load_conte69()"
   ]
  },
  {
   "cell_type": "code",
   "execution_count": null,
   "metadata": {},
   "outputs": [],
   "source": [
    "input_path='/Users/charlie/Desktop/my_projects/neurotransmitter/receptome/data/'\n",
    "res_p='/Users/charlie/Desktop/my_projects/neurotransmitter/receptome/results/F1/'"
   ]
  },
  {
   "cell_type": "code",
   "execution_count": null,
   "metadata": {},
   "outputs": [],
   "source": [
    "ntrm=pd.read_csv(input_path + '{}Parcels7Networks_receptorprofiles.csv'.format(parcels), index_col=0)\n",
    "ntrm=ntrm.apply(zscore)\n",
    "surf_corr=ntrm.transpose().corr('spearman')\n",
    "ntrm_grad=GradientMaps(approach='dm', kernel='normalized_angle',random_state=1)\n",
    "ntrm_grad.fit(surf_corr.values)"
   ]
  },
  {
   "cell_type": "code",
   "execution_count": null,
   "metadata": {},
   "outputs": [],
   "source": [
    "def plot_surf(arr, fname):\n",
    "    plot_hemispheres(surf_lh, surf_rh, array_name=arr, size=(1600, 450), color_bar=True,\n",
    "                     cmap='RdBu', screenshot=True, filename=res_p + fname)\n",
    "    return\n",
    "\n",
    "rc_g1=ntrm_grad.gradients_[:,0]\n",
    "rc_g2=ntrm_grad.gradients_[:,1]\n",
    "rc_g3=ntrm_grad.gradients_[:,2]\n"
   ]
  },
  {
   "cell_type": "code",
   "execution_count": null,
   "metadata": {},
   "outputs": [],
   "source": [
    "\n",
    "np.save(input_path + 'rc_g1_{}.npy'.format(parcels), rc_g1)\n",
    "np.save(input_path + 'rc_g2_{}.npy'.format(parcels), rc_g2)\n",
    "np.save(input_path + 'rc_g3_{}.npy'.format(parcels), rc_g3)"
   ]
  },
  {
   "cell_type": "code",
   "execution_count": null,
   "metadata": {},
   "outputs": [],
   "source": [
    "grad=map_to_labels(rc_g1, labeling, mask=labeling != 0, fill=np.nan)\n",
    "plot_surf (grad, 'G1_on_surf_redblue.png')\n",
    "\n",
    "grad=map_to_labels(rc_g2, labeling, mask=labeling != 0, fill=np.nan)\n",
    "plot_surf (grad, 'G2_on_surf_redblue.png')\n",
    "\n",
    "grad=map_to_labels(rc_g3, labeling, mask=labeling != 0, fill=np.nan)\n",
    "plot_surf (grad, 'G3_on_surf_redblue.png')"
   ]
  },
  {
   "cell_type": "code",
   "execution_count": null,
   "metadata": {},
   "outputs": [],
   "source": [
    "sns.set_style('ticks')\n",
    "fig, ax=plt.subplots(figsize=(7,7))\n",
    "var=[(s / sum(ntrm_grad.lambdas_)) * 100 for s in ntrm_grad.lambdas_]\n",
    "ax.scatter(range(1, len(var) + 1), var, s=140, color='black')\n",
    "ax.plot(range(1,len(var) + 1), var, '-', color='black')\n",
    "ax.set_xlabel('# component', fontsize=28)\n",
    "ax.set_xticks(range(1,11))\n",
    "ax.set_ylabel('% variance explained', fontsize=28)\n",
    "ax.tick_params(labelsize=24)\n",
    "plt.tight_layout()\n",
    "sns.despine()\n",
    "fig.savefig(res_p +'RC_scree_colour.png')"
   ]
  },
  {
   "cell_type": "code",
   "execution_count": null,
   "metadata": {},
   "outputs": [],
   "source": [
    "#gradient-receptor-correlations\n",
    "r_1={}\n",
    "r_2={}\n",
    "r_3={}"
   ]
  },
  {
   "cell_type": "code",
   "execution_count": null,
   "metadata": {},
   "outputs": [],
   "source": []
  },
  {
   "cell_type": "code",
   "execution_count": null,
   "metadata": {},
   "outputs": [],
   "source": [
    "#generate permuted brain maps\n",
    "\n",
    "dist=np.load(input_path + 'cort_dist_{}.npy'.format(parcels))\n",
    "#\n",
    "#ssm=SurrogateMaps(kernel='invdist')\n",
    "ssm=SurrogateMaps()\n",
    "ssm.fit(dist)\n",
    "def gen_vgm(grad):\n",
    "    n_surrogate_datasets = 1000\n",
    "    g_vgm=ssm.randomize(grad, n_rep=n_surrogate_datasets)\n",
    "    return g_vgm\n",
    "\n",
    "g1_vgm=gen_vgm(rc_g1)\n",
    "g2_vgm=gen_vgm(rc_g2)\n",
    "g3_vgm=gen_vgm(rc_g3)\n",
    "\n",
    "np.save(input_path + 'rc_g1_{}_vgm.npy'.format(parcels), g1_vgm)\n",
    "np.save(input_path + 'rc_g2_{}_vgm.npy'.format(parcels), g2_vgm)\n",
    "np.save(input_path + 'rc_g3_{}_vgm.npy'.format(parcels), g3_vgm)\n",
    "\n"
   ]
  },
  {
   "cell_type": "code",
   "execution_count": null,
   "metadata": {},
   "outputs": [],
   "source": [
    "g1_vgm = np.load(input_path + 'rc_g1_100_vgm.npy')\n",
    "g2_vgm = np.load(input_path + 'rc_g2_100_vgm.npy')\n",
    "g3_vgm = np.load(input_path + 'rc_g3_100_vgm.npy')\n",
    "print(g1_vgm)"
   ]
  },
  {
   "cell_type": "code",
   "execution_count": null,
   "metadata": {},
   "outputs": [],
   "source": [
    "for i in ntrm.columns:\n",
    "    sub=ntrm[i]\n",
    "    r_1[i]=vgm(sub, rc_g1, g1_vgm)\n",
    "    r_2[i]=vgm(sub, rc_g2, g2_vgm)\n",
    "    r_3[i]=vgm(sub, rc_g3, g3_vgm)\n",
    "\n",
    "def plot_dens_corr(inp, fname):\n",
    "    df1=pd.DataFrame.from_dict(inp, orient='index')\n",
    "    df1.columns=[\"Spearman's r\", 'p']\n",
    "    df1.sort_values(by=\"Spearman's r\", inplace=True)\n",
    "    fig, ax=plt.subplots(figsize=(15,5))\n",
    "    color=['green' if x > 0.05 else 'green' for x in df1['p']]\n",
    "    ax.bar(range(len(df1)), df1[\"Spearman's r\"], color=color)\n",
    "    ax.set_xticks(range(len(df1)), labels=list(df1.index))\n",
    "    ax.set_ylabel(\"Spearman's r\", fontsize=28)\n",
    "    ax.tick_params(labelsize=26)\n",
    "    plt.xticks(rotation=30+270)\n",
    "    plt.tight_layout()\n",
    "    fig.savefig(res_p + fname)\n",
    "    return"
   ]
  },
  {
   "cell_type": "code",
   "execution_count": null,
   "metadata": {},
   "outputs": [],
   "source": [
    "plot_dens_corr(r_1, 'G1_receptors_green.png')\n",
    "plot_dens_corr(r_2, 'G2_receptors_green.png')\n",
    "plot_dens_corr(r_3, 'G3_receptors_green.png')\n",
    "\n"
   ]
  }
 ],
 "metadata": {
  "kernelspec": {
   "display_name": "Python 3",
   "language": "python",
   "name": "python3"
  },
  "language_info": {
   "codemirror_mode": {
    "name": "ipython",
    "version": 3
   },
   "file_extension": ".py",
   "mimetype": "text/x-python",
   "name": "python",
   "nbconvert_exporter": "python",
   "pygments_lexer": "ipython3",
   "version": "3.8.5"
  }
 },
 "nbformat": 4,
 "nbformat_minor": 4
}

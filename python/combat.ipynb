{
 "cells": [
  {
   "cell_type": "code",
   "execution_count": null,
   "metadata": {},
   "outputs": [],
   "source": [
    "'''\n",
    "Adapted from  'https://github.com/Jfortin1/neuroCombat'\n",
    "\n",
    "by Carlos Estevez-Fraga\n",
    "\n",
    "'''\n"
   ]
  },
  {
   "cell_type": "code",
   "execution_count": null,
   "metadata": {},
   "outputs": [],
   "source": [
    "from neuroCombat import neuroCombat\n",
    "import pandas as pd\n",
    "import numpy as np"
   ]
  },
  {
   "cell_type": "code",
   "execution_count": null,
   "metadata": {},
   "outputs": [],
   "source": [
    "#data = np.genfromtxt('testdata/testdata.csv', delimiter=\",\", skip_header=1)\n",
    "#Had to import it with pandas then numpy otherise all nan\n",
    "data = pd.read_csv('/Users/charlie/Desktop/my_projects/neurotransmitter/R/combat/results/mind_node_hdid.csv')\n",
    "data = data.values\n",
    "print(data)\n"
   ]
  },
  {
   "cell_type": "code",
   "execution_count": null,
   "metadata": {
    "scrolled": true
   },
   "outputs": [],
   "source": [
    "covariates = pd.read_csv('/Users/charlie/Desktop/my_projects/neurotransmitter/R/combat/results/demos_long.csv')\n",
    "# Remove the first column\n",
    "covariates = covariates.drop(covariates.columns[3], axis=1)\n",
    "covariates = covariates.drop(covariates.columns[0], axis=1)\n",
    "covariates = covariates.drop(covariates.columns[4], axis=1)"
   ]
  },
  {
   "cell_type": "code",
   "execution_count": null,
   "metadata": {},
   "outputs": [],
   "source": [
    "#Specify categorical columns\n",
    "categorical_cols = ['sex', 'group']\n",
    "#Specify scanner variable\n",
    "##Here I assigned a different value to each scanner in each site in each study\n",
    "batch_col = 'site'"
   ]
  },
  {
   "cell_type": "code",
   "execution_count": null,
   "metadata": {},
   "outputs": [],
   "source": [
    "data_combat = neuroCombat(dat=data,\n",
    "    covars=covariates,\n",
    "    batch_col=batch_col,\n",
    "    categorical_cols=categorical_cols)[\"data\"]"
   ]
  },
  {
   "cell_type": "code",
   "execution_count": null,
   "metadata": {},
   "outputs": [],
   "source": [
    "file_path = '/Users/charlie/Desktop/my_projects/neurotransmitter/combat/results/data_combat.csv'\n",
    "np.savetxt(file_path, data_combat, delimiter=',', fmt='%s')"
   ]
  },
  {
   "cell_type": "code",
   "execution_count": null,
   "metadata": {},
   "outputs": [],
   "source": [
    "### YAS ###\n",
    "\n",
    "data = pd.read_csv('/Users/charlie/Desktop/my_projects/neurotransmitter/R/combat/results/mind_node_hdid_yas.csv')\n",
    "data = data.values\n",
    "\n",
    "covariates = pd.read_csv('/Users/charlie/Desktop/my_projects/neurotransmitter/R/combat/results/demos_long_yas.csv')\n",
    "# Remove the first column\n",
    "covariates = covariates.drop(covariates.columns[3], axis=1)\n",
    "covariates = covariates.drop(covariates.columns[0], axis=1)\n",
    "covariates = covariates.drop(covariates.columns[4], axis=1)\n",
    "print(covariates)\n",
    "\n",
    "#Specify categorical columns\n",
    "categorical_cols = ['sex', 'group']\n",
    "#Specify scanner variable\n",
    "##Here I assigned a different value to each scanner in each site in each study\n",
    "batch_col = 'site'\n",
    "\n",
    "data_combat = neuroCombat(dat=data,\n",
    "    covars=covariates,\n",
    "    batch_col=batch_col,\n",
    "    categorical_cols=categorical_cols)[\"data\"]\n",
    "\n",
    "file_path = '/Users/charlie/Desktop/my_projects/neurotransmitter/combat/results/data_combat_yas.csv'\n",
    "np.savetxt(file_path, data_combat, delimiter=',', fmt='%s')"
   ]
  },
  {
   "cell_type": "code",
   "execution_count": null,
   "metadata": {},
   "outputs": [],
   "source": [
    "### TRACKON ###\n",
    "\n",
    "\n",
    "data = pd.read_csv('/Users/charlie/Desktop/my_projects/neurotransmitter/R/combat/results/mind_node_hdid_trackon.csv')\n",
    "data = data.values\n",
    "\n",
    "covariates = pd.read_csv('/Users/charlie/Desktop/my_projects/neurotransmitter/R/combat/results/demos_long_trackon.csv')\n",
    "# Remove the first column\n",
    "covariates = covariates.drop(covariates.columns[3], axis=1)\n",
    "covariates = covariates.drop(covariates.columns[0], axis=1)\n",
    "covariates = covariates.drop(covariates.columns[4], axis=1)\n",
    "print(covariates)\n",
    "\n",
    "#Specify categorical columns\n",
    "categorical_cols = ['sex', 'group']\n",
    "#Specify scanner variable\n",
    "##Here I assigned a different value to each scanner in each site in each study\n",
    "batch_col = 'site'\n",
    "\n",
    "data_combat = neuroCombat(dat=data,\n",
    "    covars=covariates,\n",
    "    batch_col=batch_col,\n",
    "    categorical_cols=categorical_cols)[\"data\"]\n",
    "\n",
    "file_path = '/Users/charlie/Desktop/my_projects/neurotransmitter/combat/results/data_combat_trackon.csv'\n",
    "np.savetxt(file_path, data_combat, delimiter=',', fmt='%s')\n"
   ]
  },
  {
   "cell_type": "code",
   "execution_count": null,
   "metadata": {},
   "outputs": [],
   "source": [
    "### TRACK ###\n",
    "\n",
    "\n",
    "data = pd.read_csv('/Users/charlie/Desktop/my_projects/neurotransmitter/R/combat/results/mind_node_hdid_track.csv')\n",
    "data = data.values\n",
    "\n",
    "covariates = pd.read_csv('/Users/charlie/Desktop/my_projects/neurotransmitter/R/combat/results/demos_long_track.csv')\n",
    "# Remove the first column\n",
    "covariates = covariates.drop(covariates.columns[3], axis=1)\n",
    "covariates = covariates.drop(covariates.columns[0], axis=1)\n",
    "covariates = covariates.drop(covariates.columns[4], axis=1)\n",
    "print(covariates)\n",
    "\n",
    "#Specify categorical columns\n",
    "categorical_cols = ['sex', 'group']\n",
    "#Specify scanner variable\n",
    "##Here I assigned a different value to each scanner in each site in each study\n",
    "batch_col = 'site'\n",
    "\n",
    "data_combat = neuroCombat(dat=data,\n",
    "    covars=covariates,\n",
    "    batch_col=batch_col,\n",
    "    categorical_cols=categorical_cols)[\"data\"]\n",
    "\n",
    "file_path = '/Users/charlie/Desktop/my_projects/neurotransmitter/combat/results/data_combat_track.csv'\n",
    "np.savetxt(file_path, data_combat, delimiter=',', fmt='%s')\n"
   ]
  }
 ],
 "metadata": {
  "kernelspec": {
   "display_name": "Python 3",
   "language": "python",
   "name": "python3"
  },
  "language_info": {
   "codemirror_mode": {
    "name": "ipython",
    "version": 3
   },
   "file_extension": ".py",
   "mimetype": "text/x-python",
   "name": "python",
   "nbconvert_exporter": "python",
   "pygments_lexer": "ipython3",
   "version": "3.8.5"
  }
 },
 "nbformat": 4,
 "nbformat_minor": 4
}

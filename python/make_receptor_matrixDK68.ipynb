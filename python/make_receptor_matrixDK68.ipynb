{
 "cells": [
  {
   "cell_type": "code",
   "execution_count": null,
   "metadata": {},
   "outputs": [],
   "source": [
    "'''\n",
    "Adapted from: “Mapping neurotransmitter systems to the structural and functional organization of the human neocortex” [Hansen et al. Nature Neuroscience 2022] \n",
    "by Carlos Estevez-Fraga\n",
    "'''"
   ]
  },
  {
   "cell_type": "code",
   "execution_count": null,
   "metadata": {},
   "outputs": [],
   "source": [
    "# -*- coding: utf-8 -*-\n",
    "\"\"\"\n",
    "Concatenate parcellated PET images into region x receptor matrix of densities.\n",
    "\"\"\"\n",
    "import nibabel as nib\n",
    "import numpy as np\n",
    "import pandas as pd\n",
    "from netneurotools import datasets, plotting\n",
    "from matplotlib.colors import ListedColormap\n",
    "from scipy.stats import zscore\n",
    "from nilearn.datasets import fetch_atlas_schaefer_2018\n",
    "import abagen\n",
    "\n",
    "path = '/Users/charlie/Desktop/my_projects/neurotransmitter/ntrans/'\n",
    "\n",
    "scale = 'scale068'\n",
    "\n",
    "dk=abagen.fetch_desikan_killiany(n_rois=68)\n"
   ]
  },
  {
   "cell_type": "code",
   "execution_count": null,
   "metadata": {},
   "outputs": [],
   "source": [
    "# concatenate the receptors\n",
    "\n",
    "receptors_csv = [path+'data/PET_parcellated/'+scale+'/5HT1a_way_hc36_savli.csv',\n",
    "                 path+'data/PET_parcellated/'+scale+'/5HT1b_p943_hc22_savli.csv',\n",
    "                 path+'data/PET_parcellated/'+scale+'/5HT1b_p943_hc65_gallezot.csv',\n",
    "                 path+'data/PET_parcellated/'+scale+'/5HT2a_cimbi_hc29_beliveau.csv',\n",
    "                 path+'data/PET_parcellated/'+scale+'/5HT4_sb20_hc59_beliveau.csv',\n",
    "                 path+'data/PET_parcellated/'+scale+'/5HT6_gsk_hc30_radhakrishnan.csv',\n",
    "                 path+'data/PET_parcellated/'+scale+'/5HTT_dasb_hc100_beliveau.csv',\n",
    "                 path+'data/PET_parcellated/'+scale+'/A4B2_flubatine_hc30_hillmer.csv',\n",
    "                 path+'data/PET_parcellated/'+scale+'/CB1_omar_hc77_normandin.csv',\n",
    "                 path+'data/PET_parcellated/'+scale+'/D1_SCH23390_hc13_kaller.csv',\n",
    "                 path+'data/PET_parcellated/'+scale+'/D2_flb457_hc37_smith.csv',\n",
    "                 path+'data/PET_parcellated/'+scale+'/D2_flb457_hc55_sandiego.csv',\n",
    "                 path+'data/PET_parcellated/'+scale+'/DAT_fpcit_hc174_dukart_spect.csv',\n",
    "                 path+'data/PET_parcellated/'+scale+'/GABAa-bz_flumazenil_hc16_norgaard.csv',\n",
    "                 path+'data/PET_parcellated/'+scale+'/H3_cban_hc8_gallezot.csv', \n",
    "                 path+'data/PET_parcellated/'+scale+'/M1_lsn_hc24_naganawa.csv',\n",
    "                 path+'data/PET_parcellated/'+scale+'/mGluR5_abp_hc22_rosaneto.csv',\n",
    "                 path+'data/PET_parcellated/'+scale+'/mGluR5_abp_hc28_dubois.csv',\n",
    "                 path+'data/PET_parcellated/'+scale+'/mGluR5_abp_hc73_smart.csv',\n",
    "                 path+'data/PET_parcellated/'+scale+'/MU_carfentanil_hc204_kantonen.csv',\n",
    "                 path+'data/PET_parcellated/'+scale+'/NAT_MRB_hc77_ding.csv',\n",
    "                 path+'data/PET_parcellated/'+scale+'/NMDA_ge179_hc29_galovic.csv',\n",
    "                 #path+'data/PET_parcellated/'+scale+'/VAChT_feobv_hc3_spreng.csv',\n",
    "                 path+'data/PET_parcellated/'+scale+'/VAChT_feobv_hc4_tuominen.csv',\n",
    "                 path+'data/PET_parcellated/'+scale+'/VAChT_feobv_hc5_bedard_sum.csv',\n",
    "                 path+'data/PET_parcellated/'+scale+'/VAChT_feobv_hc18_aghourian_sum.csv']"
   ]
  },
  {
   "cell_type": "code",
   "execution_count": null,
   "metadata": {},
   "outputs": [],
   "source": [
    "\n",
    "r = np.zeros([nnodes, len(receptors_csv)])\n",
    "for i in range(len(receptors_csv)):\n",
    "    r[:, i] = np.genfromtxt(receptors_csv[i], delimiter=',')\n",
    "\n",
    "receptor_names = np.array([\"5HT1a\", \"5HT1b\", \"5HT2a\", \"5HT4\", \"5HT6\", \"5HTT\", \"A4B2\",\n",
    "                           \"CB1\", \"D1\", \"D2\", \"DAT\", \"GABAa\", \"H3\", \"M1\", \"mGluR5\",\n",
    "                           \"MOR\", \"NET\", \"NMDA\", \"VAChT\"])\n",
    "np.save(path+'data/receptor_names_pet.npy', receptor_names)"
   ]
  },
  {
   "cell_type": "code",
   "execution_count": null,
   "metadata": {},
   "outputs": [],
   "source": [
    "# make final region x receptor matrix\n",
    "# First assign columns to the receptors with a single PET study\n",
    "\n",
    "receptor_data = np.zeros([nnodes, len(receptor_names)])\n",
    "receptor_data[:, 0] = r[:, 0]\n",
    "receptor_data[:, 2:9] = r[:, 3:10]\n",
    "receptor_data[:, 10:14] = r[:, 12:16]\n",
    "receptor_data[:, 15:18] = r[:, 19:22]"
   ]
  },
  {
   "cell_type": "code",
   "execution_count": null,
   "metadata": {},
   "outputs": [],
   "source": [
    "#Then obtain weighted averages for the receptos with more than one PET study \n",
    "# weighted average of 5HT1B p943\n",
    "receptor_data[:, 1] = (zscore(r[:, 1])*22 + zscore(r[:, 2])*65) / (22+65)\n",
    "\n",
    "# weighted average of D2 flb457\n",
    "receptor_data[:, 9] = (zscore(r[:, 10])*37 + zscore(r[:, 11])*55) / (37+55)\n",
    "\n",
    "# weighted average of mGluR5 ABP688\n",
    "receptor_data[:, 14] = (zscore(r[:, 16])*22 + zscore(r[:, 17])*28 + zscore(r[:, 18])*73) / (22+28+73)\n",
    "\n",
    "# weighted average of VAChT FEOBV\n",
    "##adapted as no VAChT_feobv_hc3_spreng.csv\n",
    "##for some reason the last two maps (VAChT_feobv_hc5_bedard_sum) and (VAChT_feobv_hc18_aghourian_sum)\n",
    "##were not multiplied by the number of subjects\n",
    "receptor_data[:, 18] = (zscore(r[:, 22])*4 + zscore(r[:, 23]) + zscore(r[:, 24])) / \\\n",
    "                       (4+5+18)\n",
    "\n",
    "np.savetxt(path+'results/receptor_data_'+scale+'.csv', receptor_data, delimiter=',')\n",
    "\n"
   ]
  },
  {
   "cell_type": "code",
   "execution_count": null,
   "metadata": {},
   "outputs": [],
   "source": [
    "\n",
    "\"\"\"\n",
    "plot receptor data\n",
    "\"\"\"\n",
    "\n",
    "# colourmaps\n",
    "cmap = np.genfromtxt(path+'data/colourmap.csv', delimiter=',')\n",
    "cmap_div = ListedColormap(cmap)\n"
   ]
  },
  {
   "cell_type": "code",
   "execution_count": null,
   "metadata": {},
   "outputs": [],
   "source": [
    "# plotting\n",
    "\n",
    "annot_lh='/Users/charlie/nnt-data/atl-dk/atlas-desikankilliany_space-fsaverage_den-164k_hemi-L.aparc.annot'\n",
    "annot_rh='/Users/charlie/nnt-data/atl-dk/atlas-desikankilliany_space-fsaverage_den-164k_hemi-R.aparc.annot'\n",
    "\n",
    "\n",
    "for k in range(len(receptor_names)):\n",
    "        brain = plotting.plot_fsaverage(data=receptor_data[:, k],\n",
    "                                        lhannot=annot_lh,\n",
    "                                        rhannot=annot_rh,\n",
    "                                        colormap='plasma',\n",
    "                                        views=['lat', 'med'],\n",
    "                                        data_kws={'representation': \"wireframe\"})\n",
    "        brain.save_image(path+'figures/dk/surface_receptor_'+receptor_names[k]+'.png')"
   ]
  },
  {
   "cell_type": "code",
   "execution_count": null,
   "metadata": {},
   "outputs": [],
   "source": [
    "import pandas as pd\n",
    "from scipy.stats import zscore\n",
    "\n",
    "# Read the CSV file\n",
    "file_path = '/Users/charlie/Desktop/my_projects/neurotransmitter/ntrans/results/receptor_data_scale068.csv'\n",
    "data = pd.read_csv(file_path, header=None)\n",
    "\n",
    "\n",
    "# Create an empty DataFrame to store z-scored data\n",
    "zscored_data = pd.DataFrame()\n",
    "\n",
    "# Iterate over each column and calculate z-scores\n",
    "for column in data.columns:\n",
    "    zscored_column = zscore(data[column])\n",
    "    zscored_data[column] = zscored_column\n",
    "\n",
    "# Save the z-scored data to a new CSV file\n",
    "output_file_path = '/Users/charlie/Desktop/my_projects/neurotransmitter/ntrans/results/zscored_receptor_data_scale068.csv'\n",
    "zscored_data.to_csv(output_file_path, index=False, header=False)\n",
    "\n",
    "print(\"Z-scores calculated and saved to\", output_file_path)"
   ]
  }
 ],
 "metadata": {
  "kernelspec": {
   "display_name": "Python 3",
   "language": "python",
   "name": "python3"
  },
  "language_info": {
   "codemirror_mode": {
    "name": "ipython",
    "version": 3
   },
   "file_extension": ".py",
   "mimetype": "text/x-python",
   "name": "python",
   "nbconvert_exporter": "python",
   "pygments_lexer": "ipython3",
   "version": "3.8.5"
  }
 },
 "nbformat": 4,
 "nbformat_minor": 4
}
